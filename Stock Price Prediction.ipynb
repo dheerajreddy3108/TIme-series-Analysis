{
 "cells": [
  {
   "cell_type": "code",
   "execution_count": null,
   "id": "3edbd031",
   "metadata": {},
   "outputs": [],
   "source": []
  },
  {
   "cell_type": "markdown",
   "id": "a5904c6e",
   "metadata": {},
   "source": [
    "### import libraries"
   ]
  },
  {
   "cell_type": "code",
   "execution_count": 1,
   "id": "b6b67600",
   "metadata": {},
   "outputs": [],
   "source": [
    "import numpy as np\n",
    "import pandas as pd\n",
    "import matplotlib.pyplot as plt"
   ]
  },
  {
   "cell_type": "code",
   "execution_count": 2,
   "id": "f3fc999f",
   "metadata": {},
   "outputs": [],
   "source": [
    "# import training set\n",
    "\n",
    "train_csv = pd.read_csv('D:/deep learning/Part 3 - Recurrent Neural Networks/Google_Stock_Price_Train.csv')\n",
    "\n",
    "train_data = train_csv.iloc[:,1:2].values\n"
   ]
  },
  {
   "cell_type": "code",
   "execution_count": 3,
   "id": "e12c9d2b",
   "metadata": {},
   "outputs": [
    {
     "data": {
      "text/html": [
       "<div>\n",
       "<style scoped>\n",
       "    .dataframe tbody tr th:only-of-type {\n",
       "        vertical-align: middle;\n",
       "    }\n",
       "\n",
       "    .dataframe tbody tr th {\n",
       "        vertical-align: top;\n",
       "    }\n",
       "\n",
       "    .dataframe thead th {\n",
       "        text-align: right;\n",
       "    }\n",
       "</style>\n",
       "<table border=\"1\" class=\"dataframe\">\n",
       "  <thead>\n",
       "    <tr style=\"text-align: right;\">\n",
       "      <th></th>\n",
       "      <th>Date</th>\n",
       "      <th>Open</th>\n",
       "      <th>High</th>\n",
       "      <th>Low</th>\n",
       "      <th>Close</th>\n",
       "      <th>Volume</th>\n",
       "    </tr>\n",
       "  </thead>\n",
       "  <tbody>\n",
       "    <tr>\n",
       "      <th>0</th>\n",
       "      <td>1/3/2012</td>\n",
       "      <td>325.25</td>\n",
       "      <td>332.83</td>\n",
       "      <td>324.97</td>\n",
       "      <td>663.59</td>\n",
       "      <td>7,380,500</td>\n",
       "    </tr>\n",
       "    <tr>\n",
       "      <th>1</th>\n",
       "      <td>1/4/2012</td>\n",
       "      <td>331.27</td>\n",
       "      <td>333.87</td>\n",
       "      <td>329.08</td>\n",
       "      <td>666.45</td>\n",
       "      <td>5,749,400</td>\n",
       "    </tr>\n",
       "    <tr>\n",
       "      <th>2</th>\n",
       "      <td>1/5/2012</td>\n",
       "      <td>329.83</td>\n",
       "      <td>330.75</td>\n",
       "      <td>326.89</td>\n",
       "      <td>657.21</td>\n",
       "      <td>6,590,300</td>\n",
       "    </tr>\n",
       "    <tr>\n",
       "      <th>3</th>\n",
       "      <td>1/6/2012</td>\n",
       "      <td>328.34</td>\n",
       "      <td>328.77</td>\n",
       "      <td>323.68</td>\n",
       "      <td>648.24</td>\n",
       "      <td>5,405,900</td>\n",
       "    </tr>\n",
       "    <tr>\n",
       "      <th>4</th>\n",
       "      <td>1/9/2012</td>\n",
       "      <td>322.04</td>\n",
       "      <td>322.29</td>\n",
       "      <td>309.46</td>\n",
       "      <td>620.76</td>\n",
       "      <td>11,688,800</td>\n",
       "    </tr>\n",
       "  </tbody>\n",
       "</table>\n",
       "</div>"
      ],
      "text/plain": [
       "       Date    Open    High     Low   Close      Volume\n",
       "0  1/3/2012  325.25  332.83  324.97  663.59   7,380,500\n",
       "1  1/4/2012  331.27  333.87  329.08  666.45   5,749,400\n",
       "2  1/5/2012  329.83  330.75  326.89  657.21   6,590,300\n",
       "3  1/6/2012  328.34  328.77  323.68  648.24   5,405,900\n",
       "4  1/9/2012  322.04  322.29  309.46  620.76  11,688,800"
      ]
     },
     "execution_count": 3,
     "metadata": {},
     "output_type": "execute_result"
    }
   ],
   "source": [
    "train_csv.head()"
   ]
  },
  {
   "cell_type": "code",
   "execution_count": 4,
   "id": "edc60a11",
   "metadata": {},
   "outputs": [],
   "source": [
    "from sklearn.preprocessing import MinMaxScaler\n",
    "\n",
    "sc = MinMaxScaler(feature_range=(0, 1))\n",
    "\n",
    "train_scaled = sc.fit_transform(train_data)"
   ]
  },
  {
   "cell_type": "code",
   "execution_count": 5,
   "id": "1443b3e7",
   "metadata": {},
   "outputs": [
    {
     "name": "stdout",
     "output_type": "stream",
     "text": [
      "[[0.08581368]\n",
      " [0.09701243]\n",
      " [0.09433366]\n",
      " ...\n",
      " [0.95725128]\n",
      " [0.93796041]\n",
      " [0.93688146]]\n",
      "1258\n"
     ]
    }
   ],
   "source": [
    "print(train_scaled)\n",
    "print(len(train_scaled))"
   ]
  },
  {
   "cell_type": "code",
   "execution_count": 6,
   "id": "5f31dfb7",
   "metadata": {},
   "outputs": [],
   "source": [
    "# creating data structure with  60 time steps  and 1 output\n",
    "\n",
    "X_train = []\n",
    "y_train = []\n",
    "\n",
    "for i in range(60,len(train_scaled)):\n",
    "    X_train.append(train_scaled[i-60:i, 0])\n",
    "    y_train.append(train_scaled[i,0])\n",
    "    \n",
    "    \n",
    "X_train, y_train = np.array(X_train), np.array(y_train)\n"
   ]
  },
  {
   "cell_type": "code",
   "execution_count": 7,
   "id": "d3c30173",
   "metadata": {},
   "outputs": [
    {
     "name": "stdout",
     "output_type": "stream",
     "text": [
      "[0.08581368 0.09701243 0.09433366 0.09156187 0.07984225 0.0643277\n",
      " 0.0585423  0.06568569 0.06109085 0.06639259 0.0614257  0.07474514\n",
      " 0.02797827 0.02379269 0.02409033 0.0159238  0.01078949 0.00967334\n",
      " 0.01642607 0.02100231 0.02280676 0.02273235 0.02810849 0.03212665\n",
      " 0.0433812  0.04475779 0.04790163 0.0440695  0.04648783 0.04745517\n",
      " 0.04873875 0.03936305 0.04137213 0.04034898 0.04784582 0.04325099\n",
      " 0.04356723 0.04286033 0.04602277 0.05398467 0.05738894 0.05714711\n",
      " 0.05569611 0.04421832 0.04514845 0.04605997 0.04412531 0.03675869\n",
      " 0.04486941 0.05065481 0.05214302 0.05612397 0.05818885 0.06540665\n",
      " 0.06882953 0.07243843 0.07993526 0.07846566 0.08034452 0.08497656]\n",
      "(1198, 60)\n",
      "(1198,)\n"
     ]
    }
   ],
   "source": [
    "print(X_train[0])\n",
    "print(X_train.shape)\n",
    "print(y_train.shape)"
   ]
  },
  {
   "cell_type": "code",
   "execution_count": 8,
   "id": "ea74938d",
   "metadata": {},
   "outputs": [],
   "source": [
    "# reshaping\n",
    "X_train = np.reshape(X_train, newshape = (X_train.shape[0],X_train.shape[1], 1))"
   ]
  },
  {
   "cell_type": "code",
   "execution_count": 9,
   "id": "97904270",
   "metadata": {},
   "outputs": [],
   "source": [
    "from tensorflow.keras.layers import Dense, LSTM, Dense, Dropout\n",
    "from tensorflow.keras.models import Sequential"
   ]
  },
  {
   "cell_type": "code",
   "execution_count": 10,
   "id": "97222693",
   "metadata": {},
   "outputs": [],
   "source": [
    "model = Sequential()\n",
    "\n",
    "model.add(LSTM(units = 50, return_sequences = True, input_shape=(X_train.shape[1],1)))\n",
    "model.add(Dropout(0.2))\n",
    "\n",
    "model.add(LSTM(units = 50, return_sequences = True))\n",
    "model.add(Dropout(0.2))\n",
    "\n",
    "model.add(LSTM(units = 50, return_sequences = True))\n",
    "model.add(Dropout(0.2))\n",
    "\n",
    "model.add(LSTM(units = 50, return_sequences = False))\n",
    "model.add(Dropout(0.2))\n",
    "\n",
    "model.add(Dense(1))\n"
   ]
  },
  {
   "cell_type": "code",
   "execution_count": 11,
   "id": "c04734b4",
   "metadata": {},
   "outputs": [
    {
     "name": "stdout",
     "output_type": "stream",
     "text": [
      "Model: \"sequential\"\n",
      "_________________________________________________________________\n",
      "Layer (type)                 Output Shape              Param #   \n",
      "=================================================================\n",
      "lstm (LSTM)                  (None, 60, 50)            10400     \n",
      "_________________________________________________________________\n",
      "dropout (Dropout)            (None, 60, 50)            0         \n",
      "_________________________________________________________________\n",
      "lstm_1 (LSTM)                (None, 60, 50)            20200     \n",
      "_________________________________________________________________\n",
      "dropout_1 (Dropout)          (None, 60, 50)            0         \n",
      "_________________________________________________________________\n",
      "lstm_2 (LSTM)                (None, 60, 50)            20200     \n",
      "_________________________________________________________________\n",
      "dropout_2 (Dropout)          (None, 60, 50)            0         \n",
      "_________________________________________________________________\n",
      "lstm_3 (LSTM)                (None, 50)                20200     \n",
      "_________________________________________________________________\n",
      "dropout_3 (Dropout)          (None, 50)                0         \n",
      "_________________________________________________________________\n",
      "dense (Dense)                (None, 1)                 51        \n",
      "=================================================================\n",
      "Total params: 71,051\n",
      "Trainable params: 71,051\n",
      "Non-trainable params: 0\n",
      "_________________________________________________________________\n"
     ]
    }
   ],
   "source": [
    "model.summary()"
   ]
  },
  {
   "cell_type": "code",
   "execution_count": 12,
   "id": "2d7c1e00",
   "metadata": {},
   "outputs": [],
   "source": [
    "from tensorflow.keras.optimizers import Adam\n",
    "opt = Adam(lr =1e-4 )\n",
    "model.compile(optimizer = 'adam',loss = 'mse')"
   ]
  },
  {
   "cell_type": "code",
   "execution_count": 13,
   "id": "38ea9232",
   "metadata": {},
   "outputs": [
    {
     "name": "stdout",
     "output_type": "stream",
     "text": [
      "Epoch 1/100\n",
      "38/38 [==============================] - 1s 17ms/step - loss: 0.0399\n",
      "Epoch 2/100\n",
      "38/38 [==============================] - 1s 16ms/step - loss: 0.0080\n",
      "Epoch 3/100\n",
      "38/38 [==============================] - 1s 16ms/step - loss: 0.0053\n",
      "Epoch 4/100\n",
      "38/38 [==============================] - 1s 15ms/step - loss: 0.0051\n",
      "Epoch 5/100\n",
      "38/38 [==============================] - 1s 16ms/step - loss: 0.0049\n",
      "Epoch 6/100\n",
      "38/38 [==============================] - 1s 15ms/step - loss: 0.0048\n",
      "Epoch 7/100\n",
      "38/38 [==============================] - 1s 16ms/step - loss: 0.0049\n",
      "Epoch 8/100\n",
      "38/38 [==============================] - 1s 16ms/step - loss: 0.0050\n",
      "Epoch 9/100\n",
      "38/38 [==============================] - 1s 16ms/step - loss: 0.0044\n",
      "Epoch 10/100\n",
      "38/38 [==============================] - 1s 16ms/step - loss: 0.0046\n",
      "Epoch 11/100\n",
      "38/38 [==============================] - 1s 16ms/step - loss: 0.0041\n",
      "Epoch 12/100\n",
      "38/38 [==============================] - 1s 16ms/step - loss: 0.0051\n",
      "Epoch 13/100\n",
      "38/38 [==============================] - 1s 15ms/step - loss: 0.0040\n",
      "Epoch 14/100\n",
      "38/38 [==============================] - 1s 15ms/step - loss: 0.0041\n",
      "Epoch 15/100\n",
      "38/38 [==============================] - 1s 16ms/step - loss: 0.0036\n",
      "Epoch 16/100\n",
      "38/38 [==============================] - 1s 16ms/step - loss: 0.0033\n",
      "Epoch 17/100\n",
      "38/38 [==============================] - 1s 15ms/step - loss: 0.0037\n",
      "Epoch 18/100\n",
      "38/38 [==============================] - 1s 15ms/step - loss: 0.0038\n",
      "Epoch 19/100\n",
      "38/38 [==============================] - 1s 15ms/step - loss: 0.0033\n",
      "Epoch 20/100\n",
      "38/38 [==============================] - 1s 15ms/step - loss: 0.0036\n",
      "Epoch 21/100\n",
      "38/38 [==============================] - 1s 15ms/step - loss: 0.0039\n",
      "Epoch 22/100\n",
      "38/38 [==============================] - 1s 15ms/step - loss: 0.0038\n",
      "Epoch 23/100\n",
      "38/38 [==============================] - 1s 15ms/step - loss: 0.0037\n",
      "Epoch 24/100\n",
      "38/38 [==============================] - 1s 15ms/step - loss: 0.0030\n",
      "Epoch 25/100\n",
      "38/38 [==============================] - 1s 15ms/step - loss: 0.0027\n",
      "Epoch 26/100\n",
      "38/38 [==============================] - 1s 15ms/step - loss: 0.0028\n",
      "Epoch 27/100\n",
      "38/38 [==============================] - 1s 15ms/step - loss: 0.0034\n",
      "Epoch 28/100\n",
      "38/38 [==============================] - 1s 15ms/step - loss: 0.0029\n",
      "Epoch 29/100\n",
      "38/38 [==============================] - 1s 15ms/step - loss: 0.0030\n",
      "Epoch 30/100\n",
      "38/38 [==============================] - 1s 15ms/step - loss: 0.0030\n",
      "Epoch 31/100\n",
      "38/38 [==============================] - 1s 15ms/step - loss: 0.0030\n",
      "Epoch 32/100\n",
      "38/38 [==============================] - 1s 16ms/step - loss: 0.0031\n",
      "Epoch 33/100\n",
      "38/38 [==============================] - 1s 16ms/step - loss: 0.0031\n",
      "Epoch 34/100\n",
      "38/38 [==============================] - 1s 16ms/step - loss: 0.0026\n",
      "Epoch 35/100\n",
      "38/38 [==============================] - 1s 16ms/step - loss: 0.0028\n",
      "Epoch 36/100\n",
      "38/38 [==============================] - 1s 15ms/step - loss: 0.0028\n",
      "Epoch 37/100\n",
      "38/38 [==============================] - 1s 15ms/step - loss: 0.0026\n",
      "Epoch 38/100\n",
      "38/38 [==============================] - 1s 15ms/step - loss: 0.0030\n",
      "Epoch 39/100\n",
      "38/38 [==============================] - 1s 15ms/step - loss: 0.0032\n",
      "Epoch 40/100\n",
      "38/38 [==============================] - 1s 15ms/step - loss: 0.0024\n",
      "Epoch 41/100\n",
      "38/38 [==============================] - 1s 15ms/step - loss: 0.0026\n",
      "Epoch 42/100\n",
      "38/38 [==============================] - 1s 15ms/step - loss: 0.0026\n",
      "Epoch 43/100\n",
      "38/38 [==============================] - 1s 15ms/step - loss: 0.0025\n",
      "Epoch 44/100\n",
      "38/38 [==============================] - 1s 15ms/step - loss: 0.0028\n",
      "Epoch 45/100\n",
      "38/38 [==============================] - 1s 16ms/step - loss: 0.0025\n",
      "Epoch 46/100\n",
      "38/38 [==============================] - 1s 16ms/step - loss: 0.0027\n",
      "Epoch 47/100\n",
      "38/38 [==============================] - 1s 15ms/step - loss: 0.0025\n",
      "Epoch 48/100\n",
      "38/38 [==============================] - 1s 16ms/step - loss: 0.0026\n",
      "Epoch 49/100\n",
      "38/38 [==============================] - 1s 15ms/step - loss: 0.0024\n",
      "Epoch 50/100\n",
      "38/38 [==============================] - 1s 15ms/step - loss: 0.0023\n",
      "Epoch 51/100\n",
      "38/38 [==============================] - 1s 15ms/step - loss: 0.0022\n",
      "Epoch 52/100\n",
      "38/38 [==============================] - 1s 15ms/step - loss: 0.0023\n",
      "Epoch 53/100\n",
      "38/38 [==============================] - 1s 15ms/step - loss: 0.0027\n",
      "Epoch 54/100\n",
      "38/38 [==============================] - 1s 15ms/step - loss: 0.0022\n",
      "Epoch 55/100\n",
      "38/38 [==============================] - 1s 15ms/step - loss: 0.0024\n",
      "Epoch 56/100\n",
      "38/38 [==============================] - 1s 15ms/step - loss: 0.0027\n",
      "Epoch 57/100\n",
      "38/38 [==============================] - 1s 16ms/step - loss: 0.0024\n",
      "Epoch 58/100\n",
      "38/38 [==============================] - 1s 15ms/step - loss: 0.0021\n",
      "Epoch 59/100\n",
      "38/38 [==============================] - 1s 15ms/step - loss: 0.0022\n",
      "Epoch 60/100\n",
      "38/38 [==============================] - 1s 15ms/step - loss: 0.0021\n",
      "Epoch 61/100\n",
      "38/38 [==============================] - 1s 15ms/step - loss: 0.0024\n",
      "Epoch 62/100\n",
      "38/38 [==============================] - 1s 16ms/step - loss: 0.0019\n",
      "Epoch 63/100\n",
      "38/38 [==============================] - 1s 17ms/step - loss: 0.0022\n",
      "Epoch 64/100\n",
      "38/38 [==============================] - 1s 16ms/step - loss: 0.0020\n",
      "Epoch 65/100\n",
      "38/38 [==============================] - 1s 16ms/step - loss: 0.0021\n",
      "Epoch 66/100\n",
      "38/38 [==============================] - 1s 15ms/step - loss: 0.0020\n",
      "Epoch 67/100\n",
      "38/38 [==============================] - 1s 15ms/step - loss: 0.0019\n",
      "Epoch 68/100\n",
      "38/38 [==============================] - 1s 15ms/step - loss: 0.0021\n",
      "Epoch 69/100\n",
      "38/38 [==============================] - 1s 15ms/step - loss: 0.0018\n",
      "Epoch 70/100\n",
      "38/38 [==============================] - 1s 15ms/step - loss: 0.0021\n",
      "Epoch 71/100\n",
      "38/38 [==============================] - 1s 15ms/step - loss: 0.0018\n",
      "Epoch 72/100\n",
      "38/38 [==============================] - 1s 16ms/step - loss: 0.0019\n",
      "Epoch 73/100\n",
      "38/38 [==============================] - 1s 15ms/step - loss: 0.0017\n",
      "Epoch 74/100\n",
      "38/38 [==============================] - 1s 15ms/step - loss: 0.0022\n",
      "Epoch 75/100\n",
      "38/38 [==============================] - 1s 16ms/step - loss: 0.0017\n",
      "Epoch 76/100\n",
      "38/38 [==============================] - 1s 15ms/step - loss: 0.0017\n",
      "Epoch 77/100\n",
      "38/38 [==============================] - 1s 16ms/step - loss: 0.0017\n",
      "Epoch 78/100\n",
      "38/38 [==============================] - 1s 15ms/step - loss: 0.0020\n",
      "Epoch 79/100\n",
      "38/38 [==============================] - 1s 15ms/step - loss: 0.0018\n",
      "Epoch 80/100\n",
      "38/38 [==============================] - 1s 15ms/step - loss: 0.0018\n",
      "Epoch 81/100\n",
      "38/38 [==============================] - 1s 15ms/step - loss: 0.0018\n",
      "Epoch 82/100\n",
      "38/38 [==============================] - 1s 16ms/step - loss: 0.0019\n",
      "Epoch 83/100\n",
      "38/38 [==============================] - 1s 16ms/step - loss: 0.0017\n",
      "Epoch 84/100\n",
      "38/38 [==============================] - 1s 15ms/step - loss: 0.0017\n",
      "Epoch 85/100\n",
      "38/38 [==============================] - 1s 15ms/step - loss: 0.0017\n",
      "Epoch 86/100\n",
      "38/38 [==============================] - 1s 15ms/step - loss: 0.0015\n",
      "Epoch 87/100\n",
      "38/38 [==============================] - 1s 16ms/step - loss: 0.0016\n",
      "Epoch 88/100\n",
      "38/38 [==============================] - 1s 16ms/step - loss: 0.0015\n",
      "Epoch 89/100\n",
      "38/38 [==============================] - 1s 16ms/step - loss: 0.0017\n",
      "Epoch 90/100\n",
      "38/38 [==============================] - 1s 15ms/step - loss: 0.0016\n",
      "Epoch 91/100\n",
      "38/38 [==============================] - 1s 15ms/step - loss: 0.0016\n",
      "Epoch 92/100\n",
      "38/38 [==============================] - 1s 15ms/step - loss: 0.0015\n",
      "Epoch 93/100\n",
      "38/38 [==============================] - 1s 15ms/step - loss: 0.0015\n",
      "Epoch 94/100\n",
      "38/38 [==============================] - 1s 15ms/step - loss: 0.0015\n",
      "Epoch 95/100\n",
      "38/38 [==============================] - 1s 15ms/step - loss: 0.0016\n",
      "Epoch 96/100\n",
      "38/38 [==============================] - 1s 15ms/step - loss: 0.0016\n",
      "Epoch 97/100\n",
      "38/38 [==============================] - 1s 15ms/step - loss: 0.0015\n",
      "Epoch 98/100\n",
      "38/38 [==============================] - 1s 16ms/step - loss: 0.0016\n",
      "Epoch 99/100\n",
      "38/38 [==============================] - 1s 15ms/step - loss: 0.0015\n",
      "Epoch 100/100\n",
      "38/38 [==============================] - 1s 15ms/step - loss: 0.0017\n"
     ]
    },
    {
     "data": {
      "text/plain": [
       "<tensorflow.python.keras.callbacks.History at 0x27f13f22048>"
      ]
     },
     "execution_count": 13,
     "metadata": {},
     "output_type": "execute_result"
    }
   ],
   "source": [
    "model.fit(X_train,y_train,epochs = 100,batch_size=32,verbose =1)"
   ]
  },
  {
   "cell_type": "code",
   "execution_count": 14,
   "id": "79a2837e",
   "metadata": {},
   "outputs": [],
   "source": [
    "#loading real stock price i.e is test dataset\n",
    "\n",
    "test_csv = pd.read_csv('D:/deep learning/Part 3 - Recurrent Neural Networks/Google_Stock_Price_Test.csv')\n",
    "\n",
    "actual_price = test_csv.iloc[:,1:2].values"
   ]
  },
  {
   "cell_type": "code",
   "execution_count": 15,
   "id": "4e387d3c",
   "metadata": {},
   "outputs": [],
   "source": [
    "#concatenate train and test data\n",
    "\n",
    "data_total = pd.concat((train_csv['Open'],test_csv['Open']),axis = 0)"
   ]
  },
  {
   "cell_type": "code",
   "execution_count": 16,
   "id": "0f77bbe2",
   "metadata": {},
   "outputs": [],
   "source": [
    "inputs = data_total[len(data_total)-len(test_csv)- 60:].values\n",
    "\n",
    "inputs = inputs.reshape(-1,1)\n",
    "#print(inputs)\n",
    "inputs = sc.transform(inputs)"
   ]
  },
  {
   "cell_type": "code",
   "execution_count": null,
   "id": "7b1f2f82",
   "metadata": {},
   "outputs": [],
   "source": []
  },
  {
   "cell_type": "code",
   "execution_count": 17,
   "id": "4738ad23",
   "metadata": {},
   "outputs": [],
   "source": [
    "X_test = []\n",
    "for i in range(60,80):\n",
    "    X_test.append(inputs[i-60:i,0])\n",
    "    \n",
    "X_test = np.array(X_test)\n",
    "X_test = np.reshape(X_test,(X_test.shape[0],X_test.shape[1],1))"
   ]
  },
  {
   "cell_type": "code",
   "execution_count": 18,
   "id": "02625bfd",
   "metadata": {},
   "outputs": [
    {
     "name": "stdout",
     "output_type": "stream",
     "text": [
      "[[[0.9299055 ]\n",
      "  [0.93113327]\n",
      "  [0.92750577]\n",
      "  ...\n",
      "  [0.95725128]\n",
      "  [0.93796041]\n",
      "  [0.93688146]]\n",
      "\n",
      " [[0.93113327]\n",
      "  [0.92750577]\n",
      "  [0.94415507]\n",
      "  ...\n",
      "  [0.93796041]\n",
      "  [0.93688146]\n",
      "  [0.92955205]]\n",
      "\n",
      " [[0.92750577]\n",
      "  [0.94415507]\n",
      "  [0.93876032]\n",
      "  ...\n",
      "  [0.93688146]\n",
      "  [0.92955205]\n",
      "  [0.94731751]]\n",
      "\n",
      " ...\n",
      "\n",
      " [[0.96054394]\n",
      "  [0.9371419 ]\n",
      "  [0.92841729]\n",
      "  ...\n",
      "  [1.01045465]\n",
      "  [1.02407173]\n",
      "  [1.03930724]]\n",
      "\n",
      " [[0.9371419 ]\n",
      "  [0.92841729]\n",
      "  [0.90804747]\n",
      "  ...\n",
      "  [1.02407173]\n",
      "  [1.03930724]\n",
      "  [1.03354044]]\n",
      "\n",
      " [[0.92841729]\n",
      "  [0.90804747]\n",
      "  [0.8771858 ]\n",
      "  ...\n",
      "  [1.03930724]\n",
      "  [1.03354044]\n",
      "  [0.99624228]]]\n"
     ]
    }
   ],
   "source": [
    "print(X_test)"
   ]
  },
  {
   "cell_type": "code",
   "execution_count": 19,
   "id": "039990fa",
   "metadata": {},
   "outputs": [],
   "source": [
    "pred_price = model.predict(X_test)\n",
    "pred_price = sc.inverse_transform(pred_price)"
   ]
  },
  {
   "cell_type": "code",
   "execution_count": 20,
   "id": "d3174e45",
   "metadata": {},
   "outputs": [
    {
     "name": "stdout",
     "output_type": "stream",
     "text": [
      "[[786.4851 ]\n",
      " [783.6208 ]\n",
      " [783.29913]\n",
      " [784.0177 ]\n",
      " [786.69794]\n",
      " [791.9075 ]\n",
      " [796.92554]\n",
      " [799.23486]\n",
      " [799.79614]\n",
      " [799.6071 ]\n",
      " [799.2725 ]\n",
      " [798.9375 ]\n",
      " [798.78   ]\n",
      " [799.38074]\n",
      " [800.4629 ]\n",
      " [804.926  ]\n",
      " [811.59076]\n",
      " [818.931  ]\n",
      " [823.3157 ]\n",
      " [820.18445]]\n"
     ]
    }
   ],
   "source": [
    "print(pred_price)"
   ]
  },
  {
   "cell_type": "code",
   "execution_count": 21,
   "id": "1004acaa",
   "metadata": {},
   "outputs": [
    {
     "data": {
      "image/png": "[encoded data removed]",
      "text/plain": [
       "<Figure size 432x288 with 1 Axes>"
      ]
     },
     "metadata": {
      "needs_background": "light"
     },
     "output_type": "display_data"
    }
   ],
   "source": [
    "#visualize\n",
    "\n",
    "plt.plot(actual_price, color = 'red',label = 'REAL_STOCK_PRICE_JAN')\n",
    "plt.plot(pred_price, color = 'green',label = 'PREDICTED_STOCK_PRICE_JAN')\n",
    "plt.title('REAL vs PRED GOOGLE STOCK')\n",
    "plt.xlabel('Time')\n",
    "plt.ylabel('STOCK PRICE')\n",
    "plt.legend()\n",
    "plt.show()"
   ]
  },
  {
   "cell_type": "code",
   "execution_count": null,
   "id": "7a3b82d5",
   "metadata": {},
   "outputs": [],
   "source": []
  },
  {
   "cell_type": "code",
   "execution_count": null,
   "id": "bc021fcc",
   "metadata": {},
   "outputs": [],
   "source": []
  }
 ],
 "metadata": {
  "kernelspec": {
   "display_name": "Python 3",
   "language": "python",
   "name": "python3"
  },
  "language_info": {
   "codemirror_mode": {
    "name": "ipython",
    "version": 3
   },
   "file_extension": ".py",
   "mimetype": "text/x-python",
   "name": "python",
   "nbconvert_exporter": "python",
   "pygments_lexer": "ipython3",
   "version": "3.6.3"
  }
 },
 "nbformat": 4,
 "nbformat_minor": 5
}
